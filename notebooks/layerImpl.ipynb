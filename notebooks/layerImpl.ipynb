{
 "cells": [
  {
   "cell_type": "code",
   "execution_count": 212,
   "id": "initial_id",
   "metadata": {
    "collapsed": true,
    "ExecuteTime": {
     "end_time": "2024-03-27T00:57:38.350830500Z",
     "start_time": "2024-03-27T00:57:38.299369600Z"
    }
   },
   "outputs": [],
   "source": [
    "# Implement Layers of a Nueral Net by hand\n",
    "import torch\n",
    "import os\n",
    "import matplotlib.pyplot as plt"
   ]
  },
  {
   "cell_type": "code",
   "execution_count": 213,
   "outputs": [],
   "source": [
    "def get_absolute_directory_path(folder_name):\n",
    "    current_dir = os.path.abspath(__file__)\n",
    "    while not os.path.exists(os.path.join(current_dir, folder_name)):\n",
    "        current_dir = os.path.dirname(current_dir)\n",
    "    return os.path.join(current_dir, folder_name)"
   ],
   "metadata": {
    "collapsed": false,
    "ExecuteTime": {
     "end_time": "2024-03-27T00:57:38.382160500Z",
     "start_time": "2024-03-27T00:57:38.303807600Z"
    }
   },
   "id": "395d60330928cecf"
  },
  {
   "cell_type": "code",
   "execution_count": 214,
   "outputs": [],
   "source": [
    "dataset = open('../names.txt', 'r').read().splitlines()\n",
    "chars = sorted(list(set(''.join(dataset))))\n",
    "index_lookup_table = {index + 1: char for index, char in enumerate(chars)}\n",
    "index_lookup_table[0] = '.'\n",
    "\n",
    "# index_lookup_table"
   ],
   "metadata": {
    "collapsed": false,
    "ExecuteTime": {
     "end_time": "2024-03-27T00:57:38.382160500Z",
     "start_time": "2024-03-27T00:57:38.316778600Z"
    }
   },
   "id": "ac871492cc5a8333"
  },
  {
   "cell_type": "code",
   "execution_count": 215,
   "outputs": [
    {
     "name": "stdout",
     "output_type": "stream",
     "text": [
      "tensor([[1., 0., 0., 0., 0., 0., 0., 0., 0., 0., 0., 0., 0., 0., 0., 0., 0., 0.,\n",
      "         0., 0., 0., 0., 0., 0., 0., 0., 0.]])\n"
     ]
    }
   ],
   "source": [
    "xenc = torch.nn.functional.one_hot(torch.tensor([0]), num_classes=27).float()\n",
    "elems = xenc.clone().detach()\n",
    "print(elems)\n",
    "# plt.plot(elems)\n"
   ],
   "metadata": {
    "collapsed": false,
    "ExecuteTime": {
     "end_time": "2024-03-27T00:57:38.383253500Z",
     "start_time": "2024-03-27T00:57:38.343983200Z"
    }
   },
   "id": "4b2465c48b563bef"
  },
  {
   "cell_type": "code",
   "execution_count": 216,
   "outputs": [],
   "source": [
    "# invert atoi into i2c\n",
    "ctoi = {c: ix + 1 for ix, c in enumerate(chars)}\n",
    "itoc = {ix: c for c, ix in ctoi.items()}\n",
    "itoc[0] = '.'\n",
    "ctoi[\".\"] = 0"
   ],
   "metadata": {
    "collapsed": false,
    "ExecuteTime": {
     "end_time": "2024-03-27T00:57:38.384255400Z",
     "start_time": "2024-03-27T00:57:38.353344700Z"
    }
   },
   "id": "ba743e76c0252fe"
  },
  {
   "cell_type": "code",
   "execution_count": 265,
   "outputs": [],
   "source": [
    "block_size = 3  # number of characters to consider / inputs to take in\n",
    "\n",
    "X = []  # X is input\n",
    "Y = []  # Y is the output. in test Y is the expected value\n",
    "\n",
    "for word in dataset:\n",
    "    print(\"================\")\n",
    "    print(f'Word: \"{word}\"')\n",
    "    context = [0] * block_size  # A zero vector of size {block_size}\n",
    "    for ch in word + '.':  # add a period to the end of the word, or ending buffer to know sentence/word complete\n",
    "        print(f\"starting context {context}\")\n",
    "        ix = ctoi[ch]  # convert character to index\n",
    "        X.append(context)  # the input in space\n",
    "        Y.append(ix)  # the output in space \n",
    "        print(f'({context} --> {ix})', '<==>', (''.join(itoc[i] for i in context), '----->', itoc[ix]))\n",
    "        context = context[1:] + [ix]\n",
    "        print(f\"ending context {context}\")\n",
    "    print(\"================\")\n",
    "\n",
    "X = torch.tensor(X)\n",
    "print(X)\n",
    "Y = torch.tensor(Y)\n",
    "print(Y)"
   ],
   "metadata": {
    "collapsed": false,
    "ExecuteTime": {
     "end_time": "2024-03-27T03:27:59.049802700Z",
     "start_time": "2024-03-27T03:27:58.781397300Z"
    }
   },
   "id": "d7bce91a7f081416"
  },
  {
   "cell_type": "code",
   "execution_count": 218,
   "outputs": [
    {
     "name": "stdout",
     "output_type": "stream",
     "text": [
      "tensor([[ 0,  0,  0],\n",
      "        [ 0,  0,  5],\n",
      "        [ 0,  5, 13],\n",
      "        ...,\n",
      "        [26, 26, 25],\n",
      "        [26, 25, 26],\n",
      "        [25, 26, 24]])\n",
      "torch.Size([228146, 3])\n",
      "tensor([ 5, 13, 13,  ..., 26, 24,  0])\n",
      "torch.Size([228146])\n",
      "torch.Size([228146, 3]): torch.int64 torch.Size([228146]): torch.int64\n"
     ]
    }
   ],
   "source": [
    "print(X)\n",
    "print(X.shape)\n",
    "\n",
    "print(Y)\n",
    "print(Y.shape)\n",
    "\n",
    "print(f\"{X.shape}: {X.dtype}\", f\"{Y.shape}: {Y.dtype}\")"
   ],
   "metadata": {
    "collapsed": false,
    "ExecuteTime": {
     "end_time": "2024-03-27T00:57:45.267562900Z",
     "start_time": "2024-03-27T00:57:45.104566300Z"
    }
   },
   "id": "3aa5f699dda40764"
  },
  {
   "cell_type": "code",
   "execution_count": 219,
   "outputs": [
    {
     "name": "stdout",
     "output_type": "stream",
     "text": [
      "C=tensor([[-0.3489, -0.0138],\n",
      "        [ 3.1873, -1.0406],\n",
      "        [-1.0950,  0.8963],\n",
      "        [ 1.3407,  0.5711],\n",
      "        [ 0.6899, -2.1037],\n",
      "        [-0.7282,  0.8962],\n",
      "        [ 0.2184,  0.9250],\n",
      "        [-0.0301, -1.2749],\n",
      "        [ 0.6042, -0.1556],\n",
      "        [-0.3455, -0.3596],\n",
      "        [ 0.9871, -0.0259],\n",
      "        [ 1.1818, -0.3638],\n",
      "        [ 0.0803, -0.1895],\n",
      "        [ 0.2158, -2.0105],\n",
      "        [ 0.3569,  0.2760],\n",
      "        [ 0.7965,  0.2115],\n",
      "        [ 0.8549, -2.5525],\n",
      "        [ 0.5544,  1.1271],\n",
      "        [ 0.2767,  0.0744],\n",
      "        [-0.8770,  0.1751],\n",
      "        [ 0.2899, -0.5566],\n",
      "        [ 1.5136, -1.8207],\n",
      "        [ 1.7482, -1.2141],\n",
      "        [ 0.9130,  2.5961],\n",
      "        [-0.9882, -0.4074],\n",
      "        [ 1.7810, -1.0791],\n",
      "        [-1.0193,  1.3602]])\n",
      "C.shape=torch.Size([27, 2])\n",
      "emb.shape=torch.Size([228146, 3, 2])\n",
      "emb=tensor([[[-0.3489, -0.0138],\n",
      "         [-0.3489, -0.0138],\n",
      "         [-0.3489, -0.0138]],\n",
      "\n",
      "        [[-0.3489, -0.0138],\n",
      "         [-0.3489, -0.0138],\n",
      "         [-0.7282,  0.8962]],\n",
      "\n",
      "        [[-0.3489, -0.0138],\n",
      "         [-0.7282,  0.8962],\n",
      "         [ 0.2158, -2.0105]],\n",
      "\n",
      "        ...,\n",
      "\n",
      "        [[-1.0193,  1.3602],\n",
      "         [-1.0193,  1.3602],\n",
      "         [ 1.7810, -1.0791]],\n",
      "\n",
      "        [[-1.0193,  1.3602],\n",
      "         [ 1.7810, -1.0791],\n",
      "         [-1.0193,  1.3602]],\n",
      "\n",
      "        [[ 1.7810, -1.0791],\n",
      "         [-1.0193,  1.3602],\n",
      "         [-0.9882, -0.4074]]])\n"
     ]
    }
   ],
   "source": [
    "## Create Hyper parameters ##\n",
    "C = torch.randn((27, 2))  # embedding\n",
    "# print(f'{C=}')\n",
    "# print(f'{C.shape=}')\n",
    "\n",
    "emb = C[X]  # create embedding vector from X inputs\n",
    "# print(f'{emb.shape=}')\n",
    "# print(f'{emb=}')\n",
    "\n",
    "# matrix of 1 hot vectors each with input of 5 on each of the 27 neurons in this layer (by) C /embedding/\n",
    "# torch.nn.functional.one_hot(torch.tensor(5),num_classes=27).float() @ C\n",
    "\n",
    "# x = 3*2, because block size is 3 and embedding is 2d\n",
    "# y = any number of neurons, because we are not sure how many neurons we want to use\n",
    "W1 = torch.randn((6, 100))\n",
    "\n",
    "# biases, always equal to the number of neurons\n",
    "b1 = torch.randn(100)\n",
    "\n",
    "# torch.cat([emb[:,0,:], emb[:,1,:], emb[:,2,:]],1) # wont scale \n",
    "# torch.cat(torch.unbind(emb,1),1) # scales better when inputs>3 or n inputs\n",
    "\n",
    "# hidden layer 1\n",
    "# (emb @ W1) + b1 # cant multiply 15x2 by 6x100\n",
    "# hidden_layer_1_vector = emb.view(5, 6) @ W1 + b1 # cast emb to 5,6 by direct views() shape casting\n",
    "\n",
    "hidden_layer_1_vector = emb.view(-1, 6) @ W1 + b1  # cast emb to 5,6 by using inference\n",
    "hidden_layer_2_vector = torch.tan(hidden_layer_1_vector)\n",
    "# print(hidden_layer_2_vector)\n",
    "# print(hidden_layer_2_vector.shape)\n",
    "\n",
    "W2 = torch.randn((100, 27))\n",
    "b2 = torch.randn(27)\n",
    "\n",
    "# manual classification loss algorithm, bad if vector contains inputs that are not very large\n",
    "# counts = logits.exp()\n",
    "# prob = counts/counts.sum(1,keepdims=True)\n",
    "# prob[torch.arange(5),Y] # pick next char, x should be number of letters in dataset\n",
    "# loss = -prob[torch.arange(5),Y].log().mean() # nll\n",
    "\n",
    "# classification loss algorithm (cross_entropy)\n",
    "# used because can handle large inputs over our manual implementation \n",
    "# loss = torch.nn.functional.cross_entropy(logits, Y)\n"
   ],
   "metadata": {
    "collapsed": false,
    "ExecuteTime": {
     "end_time": "2024-03-27T00:57:45.267562900Z",
     "start_time": "2024-03-27T00:57:45.112631100Z"
    }
   },
   "id": "425a559f32619fd2"
  },
  {
   "cell_type": "code",
   "execution_count": 282,
   "outputs": [],
   "source": [
    "# construct a set of learning rates to iterate over and fine the best learning rate for our model\n",
    "lre = torch.linspace(-3, 0, 10000)  # create 1000 learning rates between 10^-3 and 10^0\n",
    "lrs = 10 ** lre  # convert to 10^x to get between 0 and 1\n",
    "\n",
    "lri = []\n",
    "lossi = []\n",
    "stepi = []\n",
    "\n",
    "C = torch.randn((27, 2))\n",
    "W1 = torch.randn((6, 100))\n",
    "b1 = torch.randn(100)\n",
    "W2 = torch.randn((100, 27))\n",
    "b2 = torch.randn(27)\n",
    "parameters = [C, W1, b1, W2, b2]\n",
    "\n",
    "# print(sum(p.nelement() for p in parameters)) # total elements in all parameters\n",
    "# print(any(p is None for p in parameters)) # No parameters are None"
   ],
   "metadata": {
    "collapsed": false,
    "ExecuteTime": {
     "end_time": "2024-03-27T03:54:57.182695400Z",
     "start_time": "2024-03-27T03:54:57.155031800Z"
    }
   },
   "id": "366226fcb3f0cd43"
  },
  {
   "cell_type": "code",
   "execution_count": 285,
   "outputs": [
    {
     "name": "stdout",
     "output_type": "stream",
     "text": [
      "loss post-optimize=2.5692601203918457\n"
     ]
    }
   ],
   "source": [
    "# Track operations for backpropagation\n",
    "for parameter in parameters:\n",
    "    parameter.requires_grad = True\n",
    "\n",
    "for _ in range(10000):\n",
    "    ### iterate over whole data set ###############\n",
    "    # # forward pass of the model\n",
    "    # emb = C[X]\n",
    "    # h = torch.tanh(emb.view(-1, 6) @ W1 + b1)\n",
    "    # logits = h @ W2 + b2  # output of layer2\n",
    "    # \n",
    "    # ## Tuning ##\n",
    "    # loss = torch.nn.functional.cross_entropy(logits, Y)\n",
    "    # for parameter in parameters: # zero gradients\n",
    "    #     parameter.grad = None\n",
    "    # loss.backward() # backpropagation\n",
    "    # for parameter in [C, W1, b1, W2, b2]: # update weights\n",
    "    #     parameter.data += -0.1 * parameter.grad\n",
    "    # =============================================================\n",
    "\n",
    "    ## iterate over mini batch ####################\n",
    "    # mini batch construct\n",
    "    ix = torch.randint(0, X.shape[0], (32,))\n",
    "\n",
    "    # forward pass of the model\n",
    "    emb = C[X[ix]]\n",
    "    h = torch.tanh(emb.view(-1, 6) @ W1 + b1)\n",
    "    logits = h @ W2 + b2\n",
    "\n",
    "    ## Tuning ## \n",
    "    loss = torch.nn.functional.cross_entropy(logits, Y[ix])\n",
    "    # print(f'loss={loss.item()}')\n",
    "    for parameter in parameters:  # zero gradients\n",
    "        parameter.grad = None\n",
    "    loss.backward()  # backpropagation\n",
    "    lr = lrs[_]  # for plotting purposes\n",
    "    lr = 0.1  # check graph to find best learning rate 10^-1\n",
    "    for parameter in [C, W1, b1, W2, b2]:  # update weights\n",
    "        parameter.data += -lr * parameter.grad\n",
    "    # =============================================================\n",
    "\n",
    "    # track stats\n",
    "    lri.append(lre[_])\n",
    "    stepi.append(_)\n",
    "    # lossi.append(loss.item())\n",
    "    lossi.append(loss.log10().item())\n",
    "\n",
    "print(f'loss post-optimize={loss.item()}')"
   ],
   "metadata": {
    "collapsed": false,
    "ExecuteTime": {
     "end_time": "2024-03-27T03:55:24.238311900Z",
     "start_time": "2024-03-27T03:55:17.063112200Z"
    }
   },
   "id": "69a626c09bf07121"
  },
  {
   "cell_type": "code",
   "execution_count": 286,
   "outputs": [
    {
     "data": {
      "text/plain": "[<matplotlib.lines.Line2D at 0x22c9c34b050>]"
     },
     "execution_count": 286,
     "metadata": {},
     "output_type": "execute_result"
    },
    {
     "data": {
      "text/plain": "<Figure size 640x480 with 1 Axes>",
      "image/png": "[encoded data removed]"
     },
     "metadata": {},
     "output_type": "display_data"
    }
   ],
   "source": [
    "# plt.plot(lri,lossi)\n",
    "plt.plot(stepi, lossi)"
   ],
   "metadata": {
    "collapsed": false,
    "ExecuteTime": {
     "end_time": "2024-03-27T03:55:26.587867800Z",
     "start_time": "2024-03-27T03:55:26.403202400Z"
    }
   },
   "id": "f7bd6360a31270a8"
  },
  {
   "cell_type": "code",
   "execution_count": 267,
   "outputs": [],
   "source": [
    "def build_dataset(dataset):\n",
    "    block_size = 3  # number of characters to consider / inputs to take in\n",
    "\n",
    "    X = []  # X is input\n",
    "    Y = []  # Y is the output. in test Y is the expected value\n",
    "\n",
    "    for word in dataset:\n",
    "        context = [0] * block_size  # A zero vector of size {block_size}\n",
    "        for ch in word + '.':  # add a period to the end of the word, or ending buffer to know sentence/word complete\n",
    "            ix = ctoi[ch]  # convert character to index\n",
    "            X.append(context)  # the input in space\n",
    "            Y.append(ix)  # the output in space \n",
    "            context = context[1:] + [ix]\n",
    "    X = torch.tensor(X)\n",
    "    Y = torch.tensor(Y)\n",
    "    return X, Y\n",
    "\n",
    "\n",
    "import random\n",
    "\n",
    "random.seed(42)\n",
    "random.shuffle(dataset)\n",
    "n1 = int(0.8 * len(dataset))\n",
    "n2 = int(0.9 * len(dataset))\n",
    "\n",
    "# training, dev/validation, test\n",
    "# 80% training, 10% dev, 10% test\n",
    "X_train, Y_train = build_dataset(dataset[:n1])\n",
    "X_dev, Y_dev = build_dataset(dataset[n1:n2])\n",
    "X_test, Y_test = build_dataset(dataset[n2:])\n"
   ],
   "metadata": {
    "collapsed": false,
    "ExecuteTime": {
     "end_time": "2024-03-27T03:34:49.747875300Z",
     "start_time": "2024-03-27T03:34:48.930547500Z"
    }
   },
   "id": "2c800409e41d3b52"
  },
  {
   "cell_type": "code",
   "execution_count": 279,
   "outputs": [
    {
     "data": {
      "text/plain": "<Figure size 800x800 with 1 Axes>",
      "image/png": "[encoded data removed]"
     },
     "metadata": {},
     "output_type": "display_data"
    }
   ],
   "source": [
    "plt.figure(figsize=(8, 8))\n",
    "plt.scatter(C[:, 0].data, C[:, 1].data, s=200)\n",
    "for i in range(27):\n",
    "    plt.text(C[i, 0].item(), C[i, 1].item(), itoc[i], ha=\"center\", va=\"center\", color=\"white\")\n",
    "plt.grid('minor')\n"
   ],
   "metadata": {
    "collapsed": false,
    "ExecuteTime": {
     "end_time": "2024-03-27T03:50:47.627493200Z",
     "start_time": "2024-03-27T03:50:47.497657Z"
    }
   },
   "id": "710ba613922f48b2"
  },
  {
   "cell_type": "code",
   "execution_count": 294,
   "outputs": [
    {
     "data": {
      "text/plain": "''"
     },
     "execution_count": 294,
     "metadata": {},
     "output_type": "execute_result"
    }
   ],
   "source": [
    "g = torch.Generator().manual_seed(2147483647)\n",
    "\n",
    "def nueral_net_algorithm(\n",
    "        seed_generator,\n",
    "):\n",
    "    out = []\n",
    "    context = [0] * block_size\n",
    "    while True:\n",
    "        # forward pass\n",
    "        emb = C[torch.tensor(context)]\n",
    "        h = torch.tanh(emb.view(1, -1) @ W1 + b1)  # (1, block_size,d)\n",
    "        logits = h @ W2 + b2\n",
    "        probs = torch.nn.functional.softmax(logits, dim=1)\n",
    "        ix = torch.multinomial(probs,num_samples=1,generator=seed_generator).item() # sample\n",
    "        context = context[1:] + [ix]\n",
    "        if ix == 0:\n",
    "            break\n",
    "    return ''.join(itoc[i] for i in out)\n",
    "\n",
    "\n",
    "# Sample NueroNet\n",
    "nueral_net_algorithm(g)"
   ],
   "metadata": {
    "collapsed": false,
    "ExecuteTime": {
     "end_time": "2024-03-27T04:09:06.592424500Z",
     "start_time": "2024-03-27T04:09:06.491244300Z"
    }
   },
   "id": "2d8705512afc211c"
  }
 ],
 "metadata": {
  "kernelspec": {
   "display_name": "Python 3",
   "language": "python",
   "name": "python3"
  },
  "language_info": {
   "codemirror_mode": {
    "name": "ipython",
    "version": 2
   },
   "file_extension": ".py",
   "mimetype": "text/x-python",
   "name": "python",
   "nbconvert_exporter": "python",
   "pygments_lexer": "ipython2",
   "version": "2.7.6"
  }
 },
 "nbformat": 4,
 "nbformat_minor": 5
}
