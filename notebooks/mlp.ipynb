{
 "cells": [
  {
   "cell_type": "code",
   "id": "initial_id",
   "metadata": {
    "collapsed": true,
    "ExecuteTime": {
     "end_time": "2025-01-03T12:34:26.652345Z",
     "start_time": "2025-01-03T12:34:26.640199Z"
    }
   },
   "source": [
    "# Implement Layers of a Neural Net by hand\n",
    "import torch\n",
    "import os\n",
    "import matplotlib.pyplot as plt"
   ],
   "outputs": [],
   "execution_count": 43
  },
  {
   "cell_type": "code",
   "source": [
    "def get_absolute_directory_path(folder_name):\n",
    "    current_dir = os.path.abspath(__file__)\n",
    "    while not os.path.exists(os.path.join(current_dir, folder_name)):\n",
    "        current_dir = os.path.dirname(current_dir)\n",
    "    return os.path.join(current_dir, folder_name)"
   ],
   "metadata": {
    "collapsed": false,
    "ExecuteTime": {
     "end_time": "2025-01-03T12:34:26.669790Z",
     "start_time": "2025-01-03T12:34:26.663760Z"
    }
   },
   "id": "395d60330928cecf",
   "outputs": [],
   "execution_count": 44
  },
  {
   "cell_type": "code",
   "source": [
    "dataset = open('names.txt', 'r').read().splitlines()\n",
    "chars = sorted(list(set(''.join(dataset))))\n",
    "index_lookup_table = {index + 1: char for index, char in enumerate(chars)}\n",
    "index_lookup_table[0] = '.'\n",
    "\n",
    "# index_lookup_table"
   ],
   "metadata": {
    "collapsed": false,
    "ExecuteTime": {
     "end_time": "2025-01-03T12:34:26.722813Z",
     "start_time": "2025-01-03T12:34:26.707726Z"
    }
   },
   "id": "ac871492cc5a8333",
   "outputs": [],
   "execution_count": 45
  },
  {
   "cell_type": "code",
   "source": [
    "xenc = torch.nn.functional.one_hot(torch.tensor([0]), num_classes=27).float()\n",
    "elems = xenc.clone().detach()\n",
    "print(elems)\n",
    "# plt.plot(elems)\n"
   ],
   "metadata": {
    "collapsed": false,
    "ExecuteTime": {
     "end_time": "2025-01-03T12:34:26.764576Z",
     "start_time": "2025-01-03T12:34:26.758096Z"
    }
   },
   "id": "4b2465c48b563bef",
   "outputs": [
    {
     "name": "stdout",
     "output_type": "stream",
     "text": [
      "tensor([[1., 0., 0., 0., 0., 0., 0., 0., 0., 0., 0., 0., 0., 0., 0., 0., 0., 0.,\n",
      "         0., 0., 0., 0., 0., 0., 0., 0., 0.]])\n"
     ]
    }
   ],
   "execution_count": 46
  },
  {
   "cell_type": "code",
   "source": [
    "# invert atoi into i2c\n",
    "ctoi = {c: ix + 1 for ix, c in enumerate(chars)}\n",
    "itoc = {ix: c for c, ix in ctoi.items()}\n",
    "itoc[0] = '.'\n",
    "ctoi[\".\"] = 0"
   ],
   "metadata": {
    "collapsed": false,
    "ExecuteTime": {
     "end_time": "2025-01-03T12:34:26.798047Z",
     "start_time": "2025-01-03T12:34:26.795213Z"
    }
   },
   "id": "ba743e76c0252fe",
   "outputs": [],
   "execution_count": 47
  },
  {
   "cell_type": "code",
   "source": [
    "# https://www.jmlr.org/papers/volume3/bengio03a/bengio03a.pdf\n",
    "block_size = 3  # number of characters to consider / inputs to take in, or \"context\"\n",
    "\n",
    "X = []  # X is input\n",
    "Y = []  # Y is the output. in test Y is the expected value\n",
    "\n",
    "for word in dataset[:9]:\n",
    "    print(\"================\")\n",
    "    print(f'Word: \"{word}\"')\n",
    "    context = [0] * block_size  # A zero vector of size {block_size}\n",
    "    for ch in word + '.':  # add a period to the end of the word, or ending buffer to know sentence/word complete\n",
    "        print(f\"starting context {context}\")\n",
    "        ix = ctoi[ch]  # convert character to index\n",
    "        X.append(context)  # the input in space\n",
    "        Y.append(ix)  # the output in space \n",
    "        print(f'({context} --> {ix})', '<==>', (''.join(itoc[i] for i in context), '----->', itoc[ix]))\n",
    "        context = context[1:] + [ix]\n",
    "        print(f\"ending context {context}\")\n",
    "    print(\"================\")\n",
    "\n",
    "# X contains all the 'letters' in the dataset,  following the model of the paper, we have len(X) examples/points we want to squeeze into len(block_size)\n",
    "X = torch.tensor(X) \n",
    "print(X)\n",
    "Y = torch.tensor(Y)\n",
    "print(Y)"
   ],
   "metadata": {
    "collapsed": false,
    "ExecuteTime": {
     "end_time": "2025-01-04T04:59:35.957559Z",
     "start_time": "2025-01-04T04:59:35.936751Z"
    }
   },
   "id": "d7bce91a7f081416",
   "outputs": [
    {
     "name": "stdout",
     "output_type": "stream",
     "text": [
      "================\n",
      "Word: \"yuheng\"\n",
      "starting context [0, 0, 0]\n",
      "([0, 0, 0] --> 25) <==> ('...', '----->', 'y')\n",
      "ending context [0, 0, 25]\n",
      "starting context [0, 0, 25]\n",
      "([0, 0, 25] --> 21) <==> ('..y', '----->', 'u')\n",
      "ending context [0, 25, 21]\n",
      "starting context [0, 25, 21]\n",
      "([0, 25, 21] --> 8) <==> ('.yu', '----->', 'h')\n",
      "ending context [25, 21, 8]\n",
      "starting context [25, 21, 8]\n",
      "([25, 21, 8] --> 5) <==> ('yuh', '----->', 'e')\n",
      "ending context [21, 8, 5]\n",
      "starting context [21, 8, 5]\n",
      "([21, 8, 5] --> 14) <==> ('uhe', '----->', 'n')\n",
      "ending context [8, 5, 14]\n",
      "starting context [8, 5, 14]\n",
      "([8, 5, 14] --> 7) <==> ('hen', '----->', 'g')\n",
      "ending context [5, 14, 7]\n",
      "starting context [5, 14, 7]\n",
      "([5, 14, 7] --> 0) <==> ('eng', '----->', '.')\n",
      "ending context [14, 7, 0]\n",
      "================\n",
      "================\n",
      "Word: \"diondre\"\n",
      "starting context [0, 0, 0]\n",
      "([0, 0, 0] --> 4) <==> ('...', '----->', 'd')\n",
      "ending context [0, 0, 4]\n",
      "starting context [0, 0, 4]\n",
      "([0, 0, 4] --> 9) <==> ('..d', '----->', 'i')\n",
      "ending context [0, 4, 9]\n",
      "starting context [0, 4, 9]\n",
      "([0, 4, 9] --> 15) <==> ('.di', '----->', 'o')\n",
      "ending context [4, 9, 15]\n",
      "starting context [4, 9, 15]\n",
      "([4, 9, 15] --> 14) <==> ('dio', '----->', 'n')\n",
      "ending context [9, 15, 14]\n",
      "starting context [9, 15, 14]\n",
      "([9, 15, 14] --> 4) <==> ('ion', '----->', 'd')\n",
      "ending context [15, 14, 4]\n",
      "starting context [15, 14, 4]\n",
      "([15, 14, 4] --> 18) <==> ('ond', '----->', 'r')\n",
      "ending context [14, 4, 18]\n",
      "starting context [14, 4, 18]\n",
      "([14, 4, 18] --> 5) <==> ('ndr', '----->', 'e')\n",
      "ending context [4, 18, 5]\n",
      "starting context [4, 18, 5]\n",
      "([4, 18, 5] --> 0) <==> ('dre', '----->', '.')\n",
      "ending context [18, 5, 0]\n",
      "================\n",
      "================\n",
      "Word: \"xavien\"\n",
      "starting context [0, 0, 0]\n",
      "([0, 0, 0] --> 24) <==> ('...', '----->', 'x')\n",
      "ending context [0, 0, 24]\n",
      "starting context [0, 0, 24]\n",
      "([0, 0, 24] --> 1) <==> ('..x', '----->', 'a')\n",
      "ending context [0, 24, 1]\n",
      "starting context [0, 24, 1]\n",
      "([0, 24, 1] --> 22) <==> ('.xa', '----->', 'v')\n",
      "ending context [24, 1, 22]\n",
      "starting context [24, 1, 22]\n",
      "([24, 1, 22] --> 9) <==> ('xav', '----->', 'i')\n",
      "ending context [1, 22, 9]\n",
      "starting context [1, 22, 9]\n",
      "([1, 22, 9] --> 5) <==> ('avi', '----->', 'e')\n",
      "ending context [22, 9, 5]\n",
      "starting context [22, 9, 5]\n",
      "([22, 9, 5] --> 14) <==> ('vie', '----->', 'n')\n",
      "ending context [9, 5, 14]\n",
      "starting context [9, 5, 14]\n",
      "([9, 5, 14] --> 0) <==> ('ien', '----->', '.')\n",
      "ending context [5, 14, 0]\n",
      "================\n",
      "================\n",
      "Word: \"jori\"\n",
      "starting context [0, 0, 0]\n",
      "([0, 0, 0] --> 10) <==> ('...', '----->', 'j')\n",
      "ending context [0, 0, 10]\n",
      "starting context [0, 0, 10]\n",
      "([0, 0, 10] --> 15) <==> ('..j', '----->', 'o')\n",
      "ending context [0, 10, 15]\n",
      "starting context [0, 10, 15]\n",
      "([0, 10, 15] --> 18) <==> ('.jo', '----->', 'r')\n",
      "ending context [10, 15, 18]\n",
      "starting context [10, 15, 18]\n",
      "([10, 15, 18] --> 9) <==> ('jor', '----->', 'i')\n",
      "ending context [15, 18, 9]\n",
      "starting context [15, 18, 9]\n",
      "([15, 18, 9] --> 0) <==> ('ori', '----->', '.')\n",
      "ending context [18, 9, 0]\n",
      "================\n",
      "================\n",
      "Word: \"juanluis\"\n",
      "starting context [0, 0, 0]\n",
      "([0, 0, 0] --> 10) <==> ('...', '----->', 'j')\n",
      "ending context [0, 0, 10]\n",
      "starting context [0, 0, 10]\n",
      "([0, 0, 10] --> 21) <==> ('..j', '----->', 'u')\n",
      "ending context [0, 10, 21]\n",
      "starting context [0, 10, 21]\n",
      "([0, 10, 21] --> 1) <==> ('.ju', '----->', 'a')\n",
      "ending context [10, 21, 1]\n",
      "starting context [10, 21, 1]\n",
      "([10, 21, 1] --> 14) <==> ('jua', '----->', 'n')\n",
      "ending context [21, 1, 14]\n",
      "starting context [21, 1, 14]\n",
      "([21, 1, 14] --> 12) <==> ('uan', '----->', 'l')\n",
      "ending context [1, 14, 12]\n",
      "starting context [1, 14, 12]\n",
      "([1, 14, 12] --> 21) <==> ('anl', '----->', 'u')\n",
      "ending context [14, 12, 21]\n",
      "starting context [14, 12, 21]\n",
      "([14, 12, 21] --> 9) <==> ('nlu', '----->', 'i')\n",
      "ending context [12, 21, 9]\n",
      "starting context [12, 21, 9]\n",
      "([12, 21, 9] --> 19) <==> ('lui', '----->', 's')\n",
      "ending context [21, 9, 19]\n",
      "starting context [21, 9, 19]\n",
      "([21, 9, 19] --> 0) <==> ('uis', '----->', '.')\n",
      "ending context [9, 19, 0]\n",
      "================\n",
      "================\n",
      "Word: \"erandi\"\n",
      "starting context [0, 0, 0]\n",
      "([0, 0, 0] --> 5) <==> ('...', '----->', 'e')\n",
      "ending context [0, 0, 5]\n",
      "starting context [0, 0, 5]\n",
      "([0, 0, 5] --> 18) <==> ('..e', '----->', 'r')\n",
      "ending context [0, 5, 18]\n",
      "starting context [0, 5, 18]\n",
      "([0, 5, 18] --> 1) <==> ('.er', '----->', 'a')\n",
      "ending context [5, 18, 1]\n",
      "starting context [5, 18, 1]\n",
      "([5, 18, 1] --> 14) <==> ('era', '----->', 'n')\n",
      "ending context [18, 1, 14]\n",
      "starting context [18, 1, 14]\n",
      "([18, 1, 14] --> 4) <==> ('ran', '----->', 'd')\n",
      "ending context [1, 14, 4]\n",
      "starting context [1, 14, 4]\n",
      "([1, 14, 4] --> 9) <==> ('and', '----->', 'i')\n",
      "ending context [14, 4, 9]\n",
      "starting context [14, 4, 9]\n",
      "([14, 4, 9] --> 0) <==> ('ndi', '----->', '.')\n",
      "ending context [4, 9, 0]\n",
      "================\n",
      "================\n",
      "Word: \"phia\"\n",
      "starting context [0, 0, 0]\n",
      "([0, 0, 0] --> 16) <==> ('...', '----->', 'p')\n",
      "ending context [0, 0, 16]\n",
      "starting context [0, 0, 16]\n",
      "([0, 0, 16] --> 8) <==> ('..p', '----->', 'h')\n",
      "ending context [0, 16, 8]\n",
      "starting context [0, 16, 8]\n",
      "([0, 16, 8] --> 9) <==> ('.ph', '----->', 'i')\n",
      "ending context [16, 8, 9]\n",
      "starting context [16, 8, 9]\n",
      "([16, 8, 9] --> 1) <==> ('phi', '----->', 'a')\n",
      "ending context [8, 9, 1]\n",
      "starting context [8, 9, 1]\n",
      "([8, 9, 1] --> 0) <==> ('hia', '----->', '.')\n",
      "ending context [9, 1, 0]\n",
      "================\n",
      "================\n",
      "Word: \"samatha\"\n",
      "starting context [0, 0, 0]\n",
      "([0, 0, 0] --> 19) <==> ('...', '----->', 's')\n",
      "ending context [0, 0, 19]\n",
      "starting context [0, 0, 19]\n",
      "([0, 0, 19] --> 1) <==> ('..s', '----->', 'a')\n",
      "ending context [0, 19, 1]\n",
      "starting context [0, 19, 1]\n",
      "([0, 19, 1] --> 13) <==> ('.sa', '----->', 'm')\n",
      "ending context [19, 1, 13]\n",
      "starting context [19, 1, 13]\n",
      "([19, 1, 13] --> 1) <==> ('sam', '----->', 'a')\n",
      "ending context [1, 13, 1]\n",
      "starting context [1, 13, 1]\n",
      "([1, 13, 1] --> 20) <==> ('ama', '----->', 't')\n",
      "ending context [13, 1, 20]\n",
      "starting context [13, 1, 20]\n",
      "([13, 1, 20] --> 8) <==> ('mat', '----->', 'h')\n",
      "ending context [1, 20, 8]\n",
      "starting context [1, 20, 8]\n",
      "([1, 20, 8] --> 1) <==> ('ath', '----->', 'a')\n",
      "ending context [20, 8, 1]\n",
      "starting context [20, 8, 1]\n",
      "([20, 8, 1] --> 0) <==> ('tha', '----->', '.')\n",
      "ending context [8, 1, 0]\n",
      "================\n",
      "================\n",
      "Word: \"phoenix\"\n",
      "starting context [0, 0, 0]\n",
      "([0, 0, 0] --> 16) <==> ('...', '----->', 'p')\n",
      "ending context [0, 0, 16]\n",
      "starting context [0, 0, 16]\n",
      "([0, 0, 16] --> 8) <==> ('..p', '----->', 'h')\n",
      "ending context [0, 16, 8]\n",
      "starting context [0, 16, 8]\n",
      "([0, 16, 8] --> 15) <==> ('.ph', '----->', 'o')\n",
      "ending context [16, 8, 15]\n",
      "starting context [16, 8, 15]\n",
      "([16, 8, 15] --> 5) <==> ('pho', '----->', 'e')\n",
      "ending context [8, 15, 5]\n",
      "starting context [8, 15, 5]\n",
      "([8, 15, 5] --> 14) <==> ('hoe', '----->', 'n')\n",
      "ending context [15, 5, 14]\n",
      "starting context [15, 5, 14]\n",
      "([15, 5, 14] --> 9) <==> ('oen', '----->', 'i')\n",
      "ending context [5, 14, 9]\n",
      "starting context [5, 14, 9]\n",
      "([5, 14, 9] --> 24) <==> ('eni', '----->', 'x')\n",
      "ending context [14, 9, 24]\n",
      "starting context [14, 9, 24]\n",
      "([14, 9, 24] --> 0) <==> ('nix', '----->', '.')\n",
      "ending context [9, 24, 0]\n",
      "================\n",
      "tensor([[ 0,  0,  0],\n",
      "        [ 0,  0, 25],\n",
      "        [ 0, 25, 21],\n",
      "        [25, 21,  8],\n",
      "        [21,  8,  5],\n",
      "        [ 8,  5, 14],\n",
      "        [ 5, 14,  7],\n",
      "        [ 0,  0,  0],\n",
      "        [ 0,  0,  4],\n",
      "        [ 0,  4,  9],\n",
      "        [ 4,  9, 15],\n",
      "        [ 9, 15, 14],\n",
      "        [15, 14,  4],\n",
      "        [14,  4, 18],\n",
      "        [ 4, 18,  5],\n",
      "        [ 0,  0,  0],\n",
      "        [ 0,  0, 24],\n",
      "        [ 0, 24,  1],\n",
      "        [24,  1, 22],\n",
      "        [ 1, 22,  9],\n",
      "        [22,  9,  5],\n",
      "        [ 9,  5, 14],\n",
      "        [ 0,  0,  0],\n",
      "        [ 0,  0, 10],\n",
      "        [ 0, 10, 15],\n",
      "        [10, 15, 18],\n",
      "        [15, 18,  9],\n",
      "        [ 0,  0,  0],\n",
      "        [ 0,  0, 10],\n",
      "        [ 0, 10, 21],\n",
      "        [10, 21,  1],\n",
      "        [21,  1, 14],\n",
      "        [ 1, 14, 12],\n",
      "        [14, 12, 21],\n",
      "        [12, 21,  9],\n",
      "        [21,  9, 19],\n",
      "        [ 0,  0,  0],\n",
      "        [ 0,  0,  5],\n",
      "        [ 0,  5, 18],\n",
      "        [ 5, 18,  1],\n",
      "        [18,  1, 14],\n",
      "        [ 1, 14,  4],\n",
      "        [14,  4,  9],\n",
      "        [ 0,  0,  0],\n",
      "        [ 0,  0, 16],\n",
      "        [ 0, 16,  8],\n",
      "        [16,  8,  9],\n",
      "        [ 8,  9,  1],\n",
      "        [ 0,  0,  0],\n",
      "        [ 0,  0, 19],\n",
      "        [ 0, 19,  1],\n",
      "        [19,  1, 13],\n",
      "        [ 1, 13,  1],\n",
      "        [13,  1, 20],\n",
      "        [ 1, 20,  8],\n",
      "        [20,  8,  1],\n",
      "        [ 0,  0,  0],\n",
      "        [ 0,  0, 16],\n",
      "        [ 0, 16,  8],\n",
      "        [16,  8, 15],\n",
      "        [ 8, 15,  5],\n",
      "        [15,  5, 14],\n",
      "        [ 5, 14,  9],\n",
      "        [14,  9, 24]])\n",
      "tensor([25, 21,  8,  5, 14,  7,  0,  4,  9, 15, 14,  4, 18,  5,  0, 24,  1, 22,\n",
      "         9,  5, 14,  0, 10, 15, 18,  9,  0, 10, 21,  1, 14, 12, 21,  9, 19,  0,\n",
      "         5, 18,  1, 14,  4,  9,  0, 16,  8,  9,  1,  0, 19,  1, 13,  1, 20,  8,\n",
      "         1,  0, 16,  8, 15,  5, 14,  9, 24,  0])\n"
     ]
    }
   ],
   "execution_count": 62
  },
  {
   "cell_type": "code",
   "source": [
    "print(X)\n",
    "print(X.shape)\n",
    "\n",
    "print(Y)\n",
    "print(Y.shape)\n",
    "\n",
    "\n",
    "print(f\"{X.shape}: {X.dtype}\", f\"{Y.shape}: {Y.dtype}\")"
   ],
   "metadata": {
    "collapsed": false,
    "ExecuteTime": {
     "end_time": "2025-01-03T12:34:26.869217Z",
     "start_time": "2025-01-03T12:34:26.865670Z"
    }
   },
   "id": "3aa5f699dda40764",
   "outputs": [
    {
     "name": "stdout",
     "output_type": "stream",
     "text": [
      "tensor([[ 0,  0,  0],\n",
      "        [ 0,  0,  5],\n",
      "        [ 0,  5, 13],\n",
      "        [ 5, 13, 13],\n",
      "        [13, 13,  1]])\n",
      "torch.Size([5, 3])\n",
      "tensor([ 5, 13, 13,  1,  0])\n",
      "torch.Size([5])\n",
      "torch.Size([5, 3]): torch.int64 torch.Size([5]): torch.int64\n"
     ]
    }
   ],
   "execution_count": 49
  },
  {
   "cell_type": "code",
   "source": [
    "# X contains all the 'letters' in the dataset,  following the model of the paper, we have len(X) we want to squeeze into len(block_size))\n",
    "\n",
    "## Create Hyper parameters ##\n",
    "C = torch.randn((27, 2))  # embedding\n",
    "# print(f'{C=}')\n",
    "# print(f'{C.shape=}')\n",
    "\n",
    "emb = C[X]  # create embedding vector from X inputs\n",
    "# print(f'{emb.shape=}')\n",
    "# print(f'{emb=}')\n",
    "\n",
    "# matrix of 1 hot vectors each with input of 5 on each of the 27 neurons in this layer (by) C /embedding/\n",
    "# linear matrix where the fifth input is turned on and the matrix is 27x1 length long.\n",
    "# torch.nn.functional.one_hot(torch.tensor(5),num_classes=27).float() @ C\n",
    "\n",
    "# x = 3*2, because block size is 3 and embedding is 2d\n",
    "# y = any number of neurons, because we are not sure how many neurons we want to use\n",
    "W1 = torch.randn((6, 100))\n",
    "\n",
    "# biases, always equal to the number of neurons\n",
    "b1 = torch.randn(100)\n",
    "\n",
    "# torch.cat([emb[:,0,:], emb[:,1,:], emb[:,2,:]],1) # wont scale \n",
    "# torch.cat(torch.unbind(emb,1),1) # scales better when inputs>3 or n inputs\n",
    "\n",
    "# hidden layer 1\n",
    "# (emb @ W1) + b1 # cant multiply 15x2 by 6x100\n",
    "# hidden_layer_1_vector = emb.view(5, 6) @ W1 + b1 # cast emb to 5,6 by direct views() shape casting\n",
    "\n",
    "hidden_layer_1_vector = emb.view(-1, 6) @ W1 + b1  # cast emb to 5,6 by using inference\n",
    "hidden_layer_2_vector = torch.tan(hidden_layer_1_vector)\n",
    "# print(hidden_layer_2_vector)\n",
    "# print(hidden_layer_2_vector.shape)\n",
    "\n",
    "W2 = torch.randn((100, 27))\n",
    "b2 = torch.randn(27)\n",
    "\n",
    "# manual classification loss algorithm, bad if vector contains inputs that are not very large\n",
    "# counts = logits.exp()\n",
    "# prob = counts/counts.sum(1,keepdims=True)\n",
    "# prob[torch.arange(5),Y] # pick next char, x should be number of letters in dataset\n",
    "# loss = -prob[torch.arange(5),Y].log().mean() # nll\n",
    "\n",
    "# classification loss algorithm (cross_entropy)\n",
    "# used because can handle large inputs over our manual implementation \n",
    "# loss = torch.nn.functional.cross_entropy(logits, Y)\n"
   ],
   "metadata": {
    "collapsed": false,
    "ExecuteTime": {
     "end_time": "2025-01-03T12:34:26.908601Z",
     "start_time": "2025-01-03T12:34:26.904034Z"
    }
   },
   "id": "425a559f32619fd2",
   "outputs": [],
   "execution_count": 50
  },
  {
   "cell_type": "code",
   "source": [
    "# construct a set of learning rates to iterate over and fine the best learning rate for our model\n",
    "lre = torch.linspace(-3, 0, 10000)  # create 1000 learning rates between 10^-3 and 10^0\n",
    "lrs = 10 ** lre  # convert to 10^x to get between 0 and 1\n",
    "\n",
    "lri = []\n",
    "lossi = []\n",
    "stepi = []\n",
    "\n",
    "C = torch.randn((27, 2))\n",
    "W1 = torch.randn((6, 100))\n",
    "b1 = torch.randn(100)\n",
    "W2 = torch.randn((100, 27))\n",
    "b2 = torch.randn(27)\n",
    "parameters = [C, W1, b1, W2, b2]\n",
    "\n",
    "# print(sum(p.nelement() for p in parameters)) # total elements in all parameters\n",
    "# print(any(p is None for p in parameters)) # No parameters are None"
   ],
   "metadata": {
    "collapsed": false,
    "ExecuteTime": {
     "end_time": "2025-01-03T12:34:26.952151Z",
     "start_time": "2025-01-03T12:34:26.937846Z"
    }
   },
   "id": "366226fcb3f0cd43",
   "outputs": [],
   "execution_count": 51
  },
  {
   "cell_type": "code",
   "source": [
    "# Track operations for backpropagation\n",
    "for parameter in parameters:\n",
    "    parameter.requires_grad = True\n",
    "\n",
    "for _ in range(10000):\n",
    "    ### iterate over whole data set ###############\n",
    "    # # forward pass of the model\n",
    "    # emb = C[X]\n",
    "    # h = torch.tanh(emb.view(-1, 6) @ W1 + b1)\n",
    "    # logits = h @ W2 + b2  # output of layer2\n",
    "    # \n",
    "    # ## Tuning ##\n",
    "    # loss = torch.nn.functional.cross_entropy(logits, Y)\n",
    "    # for parameter in parameters: # zero gradients\n",
    "    #     parameter.grad = None\n",
    "    # loss.backward() # backpropagation\n",
    "    # for parameter in [C, W1, b1, W2, b2]: # update weights\n",
    "    #     parameter.data += -0.1 * parameter.grad\n",
    "    # =============================================================\n",
    "\n",
    "    ## iterate over mini batch ####################\n",
    "    # mini batch construct\n",
    "    ix = torch.randint(0, X.shape[0], (32,))\n",
    "\n",
    "    # forward pass of the model\n",
    "    emb = C[X[ix]]\n",
    "    h = torch.tanh(emb.view(-1, 6) @ W1 + b1)\n",
    "    logits = h @ W2 + b2\n",
    "\n",
    "    ## Tuning ## \n",
    "    loss = torch.nn.functional.cross_entropy(logits, Y[ix])\n",
    "    # print(f'loss={loss.item()}')\n",
    "    for parameter in parameters:  # zero gradients\n",
    "        parameter.grad = None\n",
    "    loss.backward()  # backpropagation\n",
    "    lr = lrs[_]  # for plotting purposes\n",
    "    lr = 0.1  # check graph to find best learning rate 10^-1\n",
    "    for parameter in [C, W1, b1, W2, b2]:  # update weights\n",
    "        parameter.data += -lr * parameter.grad\n",
    "    # =============================================================\n",
    "\n",
    "    # track stats\n",
    "    lri.append(lre[_])\n",
    "    stepi.append(_)\n",
    "    # lossi.append(loss.item())\n",
    "    lossi.append(loss.log10().item())\n",
    "\n",
    "print(f'loss post-optimize={loss.item()}')"
   ],
   "metadata": {
    "collapsed": false,
    "ExecuteTime": {
     "end_time": "2025-01-03T12:34:30.171719Z",
     "start_time": "2025-01-03T12:34:26.977912Z"
    }
   },
   "id": "69a626c09bf07121",
   "outputs": [
    {
     "name": "stdout",
     "output_type": "stream",
     "text": [
      "loss post-optimize=2.5681812985567376e-05\n"
     ]
    }
   ],
   "execution_count": 52
  },
  {
   "cell_type": "code",
   "source": [
    "# plt.plot(lri,lossi)\n",
    "plt.plot(stepi, lossi)"
   ],
   "metadata": {
    "collapsed": false,
    "ExecuteTime": {
     "end_time": "2025-01-04T02:47:40.448665Z",
     "start_time": "2025-01-04T02:47:39.876315Z"
    }
   },
   "id": "f7bd6360a31270a8",
   "outputs": [
    {
     "data": {
      "text/plain": [
       "[<matplotlib.lines.Line2D at 0x138196640>]"
      ]
     },
     "execution_count": 57,
     "metadata": {},
     "output_type": "execute_result"
    },
    {
     "data": {
      "text/plain": [
       "<Figure size 640x480 with 1 Axes>"
      ],
      "image/png": "[encoded data removed]"
     },
     "metadata": {},
     "output_type": "display_data"
    }
   ],
   "execution_count": 57
  },
  {
   "cell_type": "code",
   "source": [
    "def build_dataset(dataset):\n",
    "    block_size = 3  # number of characters to consider / inputs to take in\n",
    "\n",
    "    X = []  # X is input\n",
    "    Y = []  # Y is the output. in test Y is the expected value\n",
    "\n",
    "    for word in dataset:\n",
    "        context = [0] * block_size  # A zero vector of size {block_size}\n",
    "        for ch in word + '.':  # add a period to the end of the word, or ending buffer to know sentence/word complete\n",
    "            ix = ctoi[ch]  # convert character to index\n",
    "            X.append(context)  # the input in space\n",
    "            Y.append(ix)  # the output in space \n",
    "            context = context[1:] + [ix]\n",
    "    X = torch.tensor(X)\n",
    "    Y = torch.tensor(Y)\n",
    "    return X, Y\n",
    "\n",
    "\n",
    "import random\n",
    "\n",
    "random.seed(42)\n",
    "random.shuffle(dataset)\n",
    "n1 = int(0.8 * len(dataset))\n",
    "n2 = int(0.9 * len(dataset))\n",
    "\n",
    "# training, dev/validation, test\n",
    "# 80% training, 10% dev, 10% test\n",
    "X_train, Y_train = build_dataset(dataset[:n1])\n",
    "X_dev, Y_dev = build_dataset(dataset[n1:n2])\n",
    "X_test, Y_test = build_dataset(dataset[n2:])\n"
   ],
   "metadata": {
    "collapsed": false,
    "ExecuteTime": {
     "end_time": "2025-01-03T12:34:30.965327Z",
     "start_time": "2025-01-03T12:34:30.513546Z"
    }
   },
   "id": "2c800409e41d3b52",
   "outputs": [],
   "execution_count": 54
  },
  {
   "cell_type": "code",
   "source": [
    "plt.figure(figsize=(8, 8))\n",
    "plt.scatter(C[:, 0].data, C[:, 1].data, s=200)\n",
    "for i in range(27):\n",
    "    plt.text(C[i, 0].item(), C[i, 1].item(), itoc[i], ha=\"center\", va=\"center\", color=\"white\")\n",
    "plt.grid('minor')\n"
   ],
   "metadata": {
    "collapsed": false,
    "ExecuteTime": {
     "end_time": "2025-01-03T12:34:31.098811Z",
     "start_time": "2025-01-03T12:34:30.995491Z"
    }
   },
   "id": "710ba613922f48b2",
   "outputs": [
    {
     "data": {
      "text/plain": [
       "<Figure size 800x800 with 1 Axes>"
      ],
      "image/png": "[encoded data removed]"
     },
     "metadata": {},
     "output_type": "display_data"
    }
   ],
   "execution_count": 55
  },
  {
   "cell_type": "code",
   "source": [
    "g = torch.Generator().manual_seed(2147483647)\n",
    "\n",
    "def neural_net_algorithm(\n",
    "        seed_generator,\n",
    "):\n",
    "    out = []\n",
    "    context = [0] * block_size\n",
    "    while True:\n",
    "        # forward pass\n",
    "        emb = C[torch.tensor(context)]\n",
    "        h = torch.tanh(emb.view(1, -1) @ W1 + b1)  # (1, block_size,d)\n",
    "        logits = h @ W2 + b2\n",
    "        probs = torch.nn.functional.softmax(logits, dim=1)\n",
    "        ix = torch.multinomial(probs,num_samples=1,generator=seed_generator).item() # sample\n",
    "        context = context[1:] + [ix]\n",
    "        if ix == 0:\n",
    "            break\n",
    "    return ''.join(itoc[i] for i in out)\n",
    "\n",
    "\n",
    "# Sample NueroNet\n",
    "neural_net_algorithm(g)"
   ],
   "metadata": {
    "collapsed": false,
    "ExecuteTime": {
     "end_time": "2025-01-03T12:34:31.139029Z",
     "start_time": "2025-01-03T12:34:31.130552Z"
    }
   },
   "id": "2d8705512afc211c",
   "outputs": [
    {
     "data": {
      "text/plain": [
       "''"
      ]
     },
     "execution_count": 56,
     "metadata": {},
     "output_type": "execute_result"
    }
   ],
   "execution_count": 56
  }
 ],
 "metadata": {
  "kernelspec": {
   "display_name": "Python 3",
   "language": "python",
   "name": "python3"
  },
  "language_info": {
   "codemirror_mode": {
    "name": "ipython",
    "version": 2
   },
   "file_extension": ".py",
   "mimetype": "text/x-python",
   "name": "python",
   "nbconvert_exporter": "python",
   "pygments_lexer": "ipython2",
   "version": "2.7.6"
  }
 },
 "nbformat": 4,
 "nbformat_minor": 5
}
